{
 "cells": [
  {
   "cell_type": "code",
   "execution_count": 2,
   "metadata": {},
   "outputs": [
    {
     "name": "stdout",
     "output_type": "stream",
     "text": [
      "sum of array:  13\n"
     ]
    }
   ],
   "source": [
    "#Q - 1. Write a Python Program to find sum of array?\n",
    "#Answer:\n",
    "def sum_array(arr):\n",
    "    sum = 0\n",
    "    for i in arr:\n",
    "        sum = sum+i\n",
    "    return sum\n",
    "array_input = [1,2,3,7]\n",
    "print(\"sum of array: \",sum_array(array_input))"
   ]
  },
  {
   "cell_type": "code",
   "execution_count": 5,
   "metadata": {},
   "outputs": [
    {
     "name": "stdout",
     "output_type": "stream",
     "text": [
      "The largest number in the array is:  6\n"
     ]
    }
   ],
   "source": [
    "#Q - 2. Write a Python Program to find largest element in an array?\n",
    "#Answer:\n",
    "def find_largest(arr):\n",
    "    largest = arr[0]\n",
    "    for num in arr:\n",
    "        if num > largest:\n",
    "            largest = num\n",
    "    return largest\n",
    "\n",
    "arr = []\n",
    "size = int(input(\"Enter size of array: \"))\n",
    "\n",
    "for i in range(size):\n",
    "    num = int(input(\"Enter element {} :\".format(i+1)))\n",
    "    arr.append(num)\n",
    "\n",
    "result = find_largest(arr)\n",
    "print(\"The largest number in the array is: \", result)"
   ]
  },
  {
   "cell_type": "code",
   "execution_count": 9,
   "metadata": {},
   "outputs": [
    {
     "name": "stdout",
     "output_type": "stream",
     "text": [
      "Submitted array is:  ['a', 'r', 'y', 'u', 'e', 'q', 'p', 'l']\n",
      "The rotated array is:  ['u', 'e', 'q', 'p', 'l', 'a', 'r', 'y']\n"
     ]
    }
   ],
   "source": [
    "#Q - 3. Write a Python Program for array rotation?\n",
    "#Answer:\n",
    "arr = input(\"Enter array elements separated by spaces: \").split() #we will split array elements to create list of string\n",
    "\n",
    "r = int(input(\"Enter no. of rotations: \"))\n",
    "\n",
    "rotate_array = arr[r:] + arr[:r]\n",
    "print(\"Submitted array is: \", arr)\n",
    "print(\"The rotated array is: \",rotate_array )"
   ]
  },
  {
   "cell_type": "code",
   "execution_count": 15,
   "metadata": {},
   "outputs": [
    {
     "name": "stdout",
     "output_type": "stream",
     "text": [
      "The entered array is:  a b c d e f\n",
      "The added array after split is:   c d e fa b\n"
     ]
    }
   ],
   "source": [
    "#Q - 4. Write a Python Program to Split the array and add the first part to the end?\n",
    "#Answer:\n",
    "def split_and_add(arr,k):\n",
    "    first_split = arr[k:]\n",
    "    second_split = arr[:k]\n",
    "    add_array = first_split + second_split\n",
    "    return add_array\n",
    "\n",
    "arr = input(\"Enter array elements separated by space:\" )\n",
    "r = int(input(\"Enter the split position: \"))\n",
    "\n",
    "print(\"The entered array is: \", arr)\n",
    "print(\"The added array after split is: \", split_and_add(arr,r))"
   ]
  },
  {
   "cell_type": "code",
   "execution_count": 17,
   "metadata": {},
   "outputs": [
    {
     "name": "stdout",
     "output_type": "stream",
     "text": [
      "The array is not monotonic.\n"
     ]
    }
   ],
   "source": [
    "#Q - 5. Write a Python Program to check if given array is Monotonic?\n",
    "#Answer:\n",
    "arr = input(\"Enter the array elements separated by spaces: \").split()\n",
    "arr = [int(num) for num in arr]  # Convert each element to an integer\n",
    "\n",
    "# Check if the array is monotonic\n",
    "increasing = all(arr[i] <= arr[i+1] for i in range(len(arr)-1))\n",
    "decreasing = all(arr[i] >= arr[i+1] for i in range(len(arr)-1))\n",
    "\n",
    "# Print the result\n",
    "if increasing or decreasing:\n",
    "    print(\"The array is monotonic.\")\n",
    "else:\n",
    "    print(\"The array is not monotonic.\")"
   ]
  },
  {
   "cell_type": "code",
   "execution_count": null,
   "metadata": {},
   "outputs": [],
   "source": []
  }
 ],
 "metadata": {
  "kernelspec": {
   "display_name": "Python 3.9.6 64-bit",
   "language": "python",
   "name": "python3"
  },
  "language_info": {
   "codemirror_mode": {
    "name": "ipython",
    "version": 3
   },
   "file_extension": ".py",
   "mimetype": "text/x-python",
   "name": "python",
   "nbconvert_exporter": "python",
   "pygments_lexer": "ipython3",
   "version": "3.9.6"
  },
  "orig_nbformat": 4,
  "vscode": {
   "interpreter": {
    "hash": "31f2aee4e71d21fbe5cf8b01ff0e069b9275f58929596ceb00d14d90e3e16cd6"
   }
  }
 },
 "nbformat": 4,
 "nbformat_minor": 2
}
